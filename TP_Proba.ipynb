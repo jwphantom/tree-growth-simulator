{
  "nbformat": 4,
  "nbformat_minor": 0,
  "metadata": {
    "colab": {
      "provenance": [],
      "authorship_tag": "ABX9TyMuwK5V7aovzzypN7+Utbzr",
      "include_colab_link": true
    },
    "kernelspec": {
      "name": "python3",
      "display_name": "Python 3"
    },
    "language_info": {
      "name": "python"
    }
  },
  "cells": [
    {
      "cell_type": "markdown",
      "metadata": {
        "id": "view-in-github",
        "colab_type": "text"
      },
      "source": [
        "<a href=\"https://colab.research.google.com/github/jwphantom/tree-growth-simulator/blob/main/TP_Proba.ipynb\" target=\"_parent\"><img src=\"https://colab.research.google.com/assets/colab-badge.svg\" alt=\"Open In Colab\"/></a>"
      ]
    },
    {
      "cell_type": "code",
      "source": [
        "import numpy as np\n",
        "import matplotlib.pyplot as plt\n",
        "from scipy.stats import multivariate_normal\n",
        "import seaborn as sns\n",
        "import math"
      ],
      "metadata": {
        "id": "UUHszih3btfD"
      },
      "execution_count": 84,
      "outputs": []
    },
    {
      "cell_type": "markdown",
      "source": [
        "1 - \n",
        "\n",
        "a) Ecriture du simulateur d'un similuteur de la loi bruit\n",
        "\n",
        "b) Code du calcul de la densité\n",
        "\n",
        "c) Code du des probabilités\n",
        "\n",
        "d) Code du calcul des quantiles"
      ],
      "metadata": {
        "id": "TpZw3zqZuyJb"
      }
    },
    {
      "cell_type": "code",
      "source": [
        "#supposons le paramètre thêta = 1 \n",
        "t = 240.05"
      ],
      "metadata": {
        "id": "rPXXCcqBtRQL"
      },
      "execution_count": 85,
      "outputs": []
    },
    {
      "cell_type": "code",
      "source": [
        "#initialisation du seed à 13\n",
        "seed = 13"
      ],
      "metadata": {
        "id": "YmEYu8tU45mj"
      },
      "execution_count": 86,
      "outputs": []
    },
    {
      "cell_type": "code",
      "source": [
        "# a) Simulateur de la loi du bruit\n",
        "def invForest(x):\n",
        "    r = []\n",
        "    for i in x:\n",
        "        if(i<0):\n",
        "            return r.append(0)\n",
        "        elif(i>0 and i<1):\n",
        "            Result=(-1/t)*math.log(1-i)\n",
        "            r.append(Result)\n",
        "    return r"
      ],
      "metadata": {
        "id": "K0zzIvEzt4Nu"
      },
      "execution_count": 87,
      "outputs": []
    },
    {
      "cell_type": "code",
      "source": [
        "# b) fonction de densité\n",
        "def dForest(x):\n",
        "    p=t*x\n",
        "    if(x<0):\n",
        "        return 0\n",
        "    return t*math.exp(-p)"
      ],
      "metadata": {
        "id": "I0HFOGQvtasp"
      },
      "execution_count": 88,
      "outputs": []
    },
    {
      "cell_type": "code",
      "source": [
        "# c) fonction de probabilité\n",
        "def pForest(q):\n",
        "    return frForest(q)"
      ],
      "metadata": {
        "id": "oZ1Rx3CEtrcj"
      },
      "execution_count": 89,
      "outputs": []
    },
    {
      "cell_type": "code",
      "source": [
        "# d) fonction des quantiles\n",
        "def qForest(p):\n",
        "    return(invForest(p))"
      ],
      "metadata": {
        "id": "6bYQ7i3ct1H2"
      },
      "execution_count": 90,
      "outputs": []
    },
    {
      "cell_type": "code",
      "source": [
        "# Fonction de répartition.\n",
        "def frForest(x):\n",
        "    print(x)\n",
        "    p=x*t\n",
        "    if(x<0):\n",
        "        return 0\n",
        "    result= 1-math.exp(-p)\n",
        "    return result"
      ],
      "metadata": {
        "id": "66y0qrCZtoC3"
      },
      "execution_count": 91,
      "outputs": []
    },
    {
      "cell_type": "markdown",
      "source": [
        "2- Test des fonctions , répresenation des histogrammes d'un jeu tiré de vos simulations\n"
      ],
      "metadata": {
        "id": "OGSiHee9v4zX"
      }
    },
    {
      "cell_type": "code",
      "source": [
        "# a) Generateur des variables alatoire\n",
        "def randomForest(n):\n",
        "    \n",
        "    u= np.random.uniform(size=n)\n",
        "    return (invForest(u))"
      ],
      "metadata": {
        "id": "g1q0Uiewt_li"
      },
      "execution_count": 92,
      "outputs": []
    },
    {
      "cell_type": "code",
      "source": [
        "# b) Tracer de l'histogramme \n",
        "\n",
        "g = randomForest(10000)\n",
        "\n",
        "sns.histplot(g, color='deepskyblue', stat='density')\n",
        "sns.kdeplot(g, color='red')\n",
        "plt.show()"
      ],
      "metadata": {
        "colab": {
          "base_uri": "https://localhost:8080/",
          "height": 265
        },
        "id": "e3RCKFseupPY",
        "outputId": "b8f465f4-8425-4ec6-d705-3475b4edb70f"
      },
      "execution_count": 93,
      "outputs": [
        {
          "output_type": "display_data",
          "data": {
            "text/plain": [
              "<Figure size 432x288 with 1 Axes>"
            ],
            "image/png": "[encoded data removed]"
          },
          "metadata": {
            "needs_background": "light"
          }
        }
      ]
    },
    {
      "cell_type": "code",
      "source": [
        "# c) Test de la fonction de densité\n",
        "\n",
        "\n",
        "#Fonction qui injecte n valeur dans la fonction de densité\n",
        "def injectValue(x):\n",
        "    r = []\n",
        "    for i in x:\n",
        "        r.append(dForest(i))\n",
        "    return r\n",
        "\n",
        "#récuparation dans un tableau pour traçer la fonction du bruit.\n",
        "\n",
        "def plotBruit(n):\n",
        "  x = np.random.exponential(size=n)\n",
        "  y = injectValue(x)\n",
        "\n",
        "  fig, ax = plt.subplots()\n",
        "  ax.plot(x, y)\n",
        "  plt.show()\n",
        "\n",
        "plotBruit(100)\n"
      ],
      "metadata": {
        "colab": {
          "base_uri": "https://localhost:8080/",
          "height": 265
        },
        "id": "m_Sok4Usyz1e",
        "outputId": "d25a512e-0c42-465a-c55e-a03bb7b3a793"
      },
      "execution_count": 94,
      "outputs": [
        {
          "output_type": "display_data",
          "data": {
            "text/plain": [
              "<Figure size 432x288 with 1 Axes>"
            ],
            "image/png": "[encoded data removed]"
          },
          "metadata": {
            "needs_background": "light"
          }
        }
      ]
    },
    {
      "cell_type": "code",
      "source": [
        "# c) Tracé de la loi exponentielle \n",
        "\n",
        "# Using exponential() method\n",
        "s= np.random.seed(seed)\n",
        "\n",
        "\n",
        "gfg = np.random.exponential(3.45, 10000)\n",
        "\n",
        "sns.histplot(gfg, color='green', stat='density')\n",
        "plt.show()"
      ],
      "metadata": {
        "colab": {
          "base_uri": "https://localhost:8080/",
          "height": 265
        },
        "id": "P517otCn-2la",
        "outputId": "cbcf6e7e-eda5-47c7-c095-6a9fae491128"
      },
      "execution_count": 95,
      "outputs": [
        {
          "output_type": "display_data",
          "data": {
            "text/plain": [
              "<Figure size 432x288 with 1 Axes>"
            ],
            "image/png": "[encoded data removed]"
          },
          "metadata": {
            "needs_background": "light"
          }
        }
      ]
    },
    {
      "cell_type": "markdown",
      "source": [
        "3- \n",
        "\n",
        "a) Ecrivons le code du modèle"
      ],
      "metadata": {
        "id": "1tUF7rtC_u56"
      }
    },
    {
      "cell_type": "code",
      "source": [
        "t = 0.001\n",
        "from scipy.stats import multivariate_normal\n",
        "\n",
        "\n",
        "# Fonction du modèle\n",
        "def model():\n",
        "  D = 150\n",
        "  r = 0.3\n",
        "  s= np.random.seed(seed)\n",
        "\n",
        "  # calcul de X0 et X1\n",
        "  X0 = multivariate_normal.rvs([10., 12.], [[1.1, 0.5], [0.5, 1.1]], size = 1)[0]\n",
        "  X1 = multivariate_normal.rvs([10., 12.], [[1.1, 0.5], [0.5, 1.1]], size = 1)[1]\n",
        "\n",
        "  X = []\n",
        "  X.append(X0)\n",
        "  X.append(X1)\n",
        "\n",
        "  #ep_k = np.random.lognormal(size=50, mean=0, sigma=.002)\n",
        "  ep_k = randomForest(50)\n",
        "  for i in range(2,50):    \n",
        "    m = D**(1-np.exp(-r))*((X[i-1]+X[i-2])/2)**(np.exp(-r)) * ep_k[i-1]\n",
        "    X.append(m)\n",
        "\n",
        "  return X   \n",
        "\n"
      ],
      "metadata": {
        "id": "KvvXd8VCBJU_"
      },
      "execution_count": 103,
      "outputs": []
    },
    {
      "cell_type": "markdown",
      "source": [
        "b)  Affichons les valeurs en cm de la taille de l'arbre"
      ],
      "metadata": {
        "id": "eOZXyKoNN-ui"
      }
    },
    {
      "cell_type": "code",
      "source": [
        "print(model()) "
      ],
      "metadata": {
        "colab": {
          "base_uri": "https://localhost:8080/"
        },
        "id": "pO2SLtfvN8w5",
        "outputId": "3d9ed225-093d-4e32-a477-6be14ddc8af5"
      },
      "execution_count": 97,
      "outputs": [
        {
          "output_type": "stream",
          "name": "stdout",
          "text": [
            "[10.224326730071578, 12.287272573038988, 32902.726594515734, 4997701.709425502, 258794333.80992278, 135475683.536639, 1813365906.516788, 1007641290.2838677, 42758370474.187164, 78174517713.84396, 405185340543.9982, 293994934028.8692, 557416509160.7676, 14283310344.61109, 498879596743.834, 3090704514508.1743, 1077783430209.9054, 1884965947682.005, 9503681683347.965, 334448655452.3138, 622860464349.834, 1637084833876.5066, 6443244328642.623, 70025579631.94211, 9359765255798.62, 15030167169517.615, 1427794265338.4622, 14476923038433.2, 9403971236919.324, 11670200209960.09, 50673534692031.05, 437346495.5176704, 8841987584468.8, 10651979725975.3, 6027678135196.192, 4438474430430.994, 11519599018698.186, 33211914234032.535, 7967245652858.86, 16375953638358.828, 5281706569384.429, 7920299713464.143, 10676100107484.324, 21953931547252.734, 1582317920676.9392, 20462905651985.17, 13370276489278.531, 3431290990050.3633, 1430568275292.2993, 1547093901514.8875]\n"
          ]
        }
      ]
    },
    {
      "cell_type": "markdown",
      "source": [
        "4) \n",
        "\n"
      ],
      "metadata": {
        "id": "Od_rezcpOPy_"
      }
    },
    {
      "cell_type": "code",
      "source": [
        "def nbannée(init) :\n",
        "  x = []\n",
        "  for i in range(50):\n",
        "    x.append(init + i)\n",
        "\n",
        "  return x"
      ],
      "metadata": {
        "id": "050337tLid-U"
      },
      "execution_count": 104,
      "outputs": []
    },
    {
      "cell_type": "code",
      "source": [
        "annee = 2023\n",
        "\n",
        "def plotModel():\n",
        "  x = nbannée(annee)\n",
        "  y = model()\n",
        "\n",
        "  fig, ax = plt.subplots()\n",
        "  ax.plot(x, y)\n",
        "  plt.show()\n",
        "\n",
        "plotModel()"
      ],
      "metadata": {
        "colab": {
          "base_uri": "https://localhost:8080/",
          "height": 276
        },
        "id": "Th-eI5yoN9VO",
        "outputId": "57c523c6-c86a-4081-a33a-11669c4f94e9"
      },
      "execution_count": 109,
      "outputs": [
        {
          "output_type": "display_data",
          "data": {
            "text/plain": [
              "<Figure size 432x288 with 1 Axes>"
            ],
            "image/png": "[encoded data removed]"
          },
          "metadata": {
            "needs_background": "light"
          }
        }
      ]
    },
    {
      "cell_type": "markdown",
      "source": [
        "\n",
        " **a) Année à laquelle l'arbre atteindra sa plus grande taille  : [texte du lien](https://)**"
      ],
      "metadata": {
        "id": "D1sAuNpRfkt7"
      }
    },
    {
      "cell_type": "code",
      "source": [
        "from operator import indexOf\n",
        "\n",
        "y = model().index(max(model())) \n",
        "print (str(nbannée(annee)[y]))"
      ],
      "metadata": {
        "colab": {
          "base_uri": "https://localhost:8080/"
        },
        "id": "ikvSRilOf1QG",
        "outputId": "354178f9-714d-4240-af48-11bc1d98a52a"
      },
      "execution_count": 100,
      "outputs": [
        {
          "output_type": "stream",
          "name": "stdout",
          "text": [
            "2053\n"
          ]
        }
      ]
    },
    {
      "cell_type": "markdown",
      "source": [
        "\n",
        "**b) Valeurs de cette arbre en cm**"
      ],
      "metadata": {
        "id": "lIeuEDaRhR0c"
      }
    },
    {
      "cell_type": "code",
      "source": [
        "print (str(max(model())) + ' cm')"
      ],
      "metadata": {
        "colab": {
          "base_uri": "https://localhost:8080/"
        },
        "id": "YdWoWN0EhfXr",
        "outputId": "ce17fd05-b796-4c0a-ed7f-937296d546b1"
      },
      "execution_count": 101,
      "outputs": [
        {
          "output_type": "stream",
          "name": "stdout",
          "text": [
            "50673534692031.05 cm\n"
          ]
        }
      ]
    },
    {
      "cell_type": "markdown",
      "source": [
        "**c) Plus grande variation entre deux annéees :**"
      ],
      "metadata": {
        "id": "13tHB-tvm0Au"
      }
    },
    {
      "cell_type": "code",
      "source": [
        "def diffrence():\n",
        "  x1 = max(model())\n",
        "  x2 = model()[model().index(max(model())) -1 ]\n",
        "\n",
        "  return x1-x2\n",
        "\n",
        "print (str(diffrence()) + ' cm')"
      ],
      "metadata": {
        "colab": {
          "base_uri": "https://localhost:8080/"
        },
        "id": "WwX0GA10m2zo",
        "outputId": "317c46e6-3043-4c94-f5f1-2b0ca4267706"
      },
      "execution_count": 102,
      "outputs": [
        {
          "output_type": "stream",
          "name": "stdout",
          "text": [
            "39003334482070.95 cm\n"
          ]
        }
      ]
    },
    {
      "cell_type": "markdown",
      "source": [
        "**d) Année d'observation de ces marges :**  2050 à 2053"
      ],
      "metadata": {
        "id": "BbN9f5dxpLWn"
      }
    },
    {
      "cell_type": "markdown",
      "source": [
        "**5) Similation de 50 réalisations sur 50 années**\n",
        "\n",
        "\n",
        "pour faire 50 réalisations sur 50 années nous devons rétirer notre seed afin de pouvoir obtenir des valeurs différentes"
      ],
      "metadata": {
        "id": "Xy7doxEiQekP"
      }
    },
    {
      "cell_type": "code",
      "source": [
        "# Fonction du modèle\n",
        "def nModel():\n",
        "  D = 150\n",
        "  r = 0.3\n",
        "  # calcul de X0 et X1\n",
        "  X0 = multivariate_normal.rvs([10., 12.], [[1.1, 0.5], [0.5, 1.1]], size = 1)[0]\n",
        "  X1 = multivariate_normal.rvs([10., 12.], [[1.1, 0.5], [0.5, 1.1]], size = 1)[1]\n",
        "\n",
        "  X = []\n",
        "  X.append(X0)\n",
        "  X.append(X1)\n",
        "\n",
        "  ep_k = np.random.lognormal(size=50, mean=0, sigma=.002)\n",
        "  #ep_k = randomForest(50)\n",
        "  for i in range(2,50):    \n",
        "    m = D**(1-np.exp(-r))*((X[i-1]+X[i-2])/2)**(np.exp(-r)) * ep_k[i-1]\n",
        "    X.append(m)\n",
        "\n",
        "  return X   "
      ],
      "metadata": {
        "id": "4R0Vxt98zb9B"
      },
      "execution_count": 120,
      "outputs": []
    },
    {
      "cell_type": "code",
      "source": [
        "def realisation(n):\n",
        "\n",
        "  matrice = np.zeros(shape=(n, n), dtype=float)\n",
        "\n",
        "  for i in range(n):\n",
        "                                     \n",
        "      matrice[i,] = nModel()\n",
        "\n",
        "  return matrice"
      ],
      "metadata": {
        "id": "TMo_qKr-0lBl"
      },
      "execution_count": 121,
      "outputs": []
    },
    {
      "cell_type": "code",
      "source": [
        "print (realisation(50))"
      ],
      "metadata": {
        "colab": {
          "base_uri": "https://localhost:8080/"
        },
        "id": "HLl_nFPR1F0d",
        "outputId": "624cad2b-d356-4e29-dd01-18afcf948d5b"
      },
      "execution_count": 122,
      "outputs": [
        {
          "output_type": "stream",
          "name": "stdout",
          "text": [
            "[[  9.55790745  13.55981449  22.5002285  ... 149.8798013  149.92126304\n",
            "  150.25295232]\n",
            " [  7.44049655  11.933224    19.79572796 ... 149.58851873 149.97905907\n",
            "  149.91678002]\n",
            " [  9.32186212  12.29638131  21.41495081 ... 150.36563558 150.06028226\n",
            "  149.57639381]\n",
            " ...\n",
            " [  9.5837447   13.90067053  22.77551277 ... 150.09519031 149.84414186\n",
            "  149.84771734]\n",
            " [ 12.14457256  12.28988892  23.32314533 ... 150.87421713 150.48098547\n",
            "  150.65307371]\n",
            " [  9.64182944  12.46995295  21.75300378 ... 149.74149277 150.1017342\n",
            "  149.61821644]]\n"
          ]
        }
      ]
    }
  ]
}