{
  "nbformat": 4,
  "nbformat_minor": 0,
  "metadata": {
    "colab": {
      "provenance": [],
      "authorship_tag": "ABX9TyMH1SpOegsCmCYv0RAyQABG",
      "include_colab_link": true
    },
    "kernelspec": {
      "name": "python3",
      "display_name": "Python 3"
    },
    "language_info": {
      "name": "python"
    }
  },
  "cells": [
    {
      "cell_type": "markdown",
      "metadata": {
        "id": "view-in-github",
        "colab_type": "text"
      },
      "source": [
        "<a href=\"https://colab.research.google.com/github/jwphantom/tree-growth-simulator/blob/main/TP_Proba.ipynb\" target=\"_parent\"><img src=\"https://colab.research.google.com/assets/colab-badge.svg\" alt=\"Open In Colab\"/></a>"
      ]
    },
    {
      "cell_type": "code",
      "source": [
        "import numpy as np\n",
        "import matplotlib.pyplot as plt\n",
        "from scipy.stats import multivariate_normal\n",
        "import seaborn as sns\n",
        "import math"
      ],
      "metadata": {
        "id": "UUHszih3btfD"
      },
      "execution_count": 245,
      "outputs": []
    },
    {
      "cell_type": "markdown",
      "source": [
        "1 - \n",
        "\n",
        "a) Ecriture du simulateur d'un similuteur de la loi bruit\n",
        "\n",
        "b) Code du calcul de la densité\n",
        "\n",
        "c) Code du des probabilités\n",
        "\n",
        "d) Code du calcul des quantiles"
      ],
      "metadata": {
        "id": "TpZw3zqZuyJb"
      }
    },
    {
      "cell_type": "code",
      "source": [
        "#supposons le paramètre thêta = 1 \n",
        "t = 0.4"
      ],
      "metadata": {
        "id": "rPXXCcqBtRQL"
      },
      "execution_count": 246,
      "outputs": []
    },
    {
      "cell_type": "code",
      "source": [
        "#initialisation du seed à 13\n",
        "seed = 13"
      ],
      "metadata": {
        "id": "YmEYu8tU45mj"
      },
      "execution_count": 247,
      "outputs": []
    },
    {
      "cell_type": "code",
      "source": [
        "# a) Simulateur de la loi du bruit\n",
        "def invForest(x):\n",
        "    r = []\n",
        "    for i in x:\n",
        "        if(i<0):\n",
        "            return r.append(0)\n",
        "        elif(i>0 and i<1):\n",
        "            Result=(-1/t)*math.log(1-i)\n",
        "            r.append(Result)\n",
        "    return r"
      ],
      "metadata": {
        "id": "K0zzIvEzt4Nu"
      },
      "execution_count": 248,
      "outputs": []
    },
    {
      "cell_type": "code",
      "source": [
        "# b) fonction de densité\n",
        "def dForest(x):\n",
        "    p=t*x\n",
        "    if(x<0):\n",
        "        return 0\n",
        "    return t*math.exp(-p)"
      ],
      "metadata": {
        "id": "I0HFOGQvtasp"
      },
      "execution_count": 249,
      "outputs": []
    },
    {
      "cell_type": "code",
      "source": [
        "# c) fonction de probabilité\n",
        "def pForest(q):\n",
        "    return frForest(q)"
      ],
      "metadata": {
        "id": "oZ1Rx3CEtrcj"
      },
      "execution_count": 250,
      "outputs": []
    },
    {
      "cell_type": "code",
      "source": [
        "# d) fonction des quantiles\n",
        "def qForest(p):\n",
        "    return(invForest(p))"
      ],
      "metadata": {
        "id": "6bYQ7i3ct1H2"
      },
      "execution_count": 251,
      "outputs": []
    },
    {
      "cell_type": "code",
      "source": [
        "# Fonction de répartition.\n",
        "def frForest(x):\n",
        "    print(x)\n",
        "    p=x*t\n",
        "    if(x<0):\n",
        "        return 0\n",
        "    result= 1-math.exp(-p)\n",
        "    return result"
      ],
      "metadata": {
        "id": "66y0qrCZtoC3"
      },
      "execution_count": 252,
      "outputs": []
    },
    {
      "cell_type": "markdown",
      "source": [
        "2- Test des fonctions , répresenation des histogrammes d'un jeu tiré de vos simulations\n"
      ],
      "metadata": {
        "id": "OGSiHee9v4zX"
      }
    },
    {
      "cell_type": "code",
      "source": [
        "# a) Generateur des variables alatoire\n",
        "def randomForest(n):\n",
        "    \n",
        "    u= np.random.uniform(size=n)\n",
        "    return (invForest(u))"
      ],
      "metadata": {
        "id": "g1q0Uiewt_li"
      },
      "execution_count": 253,
      "outputs": []
    },
    {
      "cell_type": "code",
      "source": [
        "# b) Tracer de l'histogramme \n",
        "\n",
        "g = randomForest(1000)\n",
        "\n",
        "sns.histplot(g, color='deepskyblue', stat='density')\n",
        "sns.kdeplot(g, color='red')\n",
        "plt.show()"
      ],
      "metadata": {
        "colab": {
          "base_uri": "https://localhost:8080/",
          "height": 268
        },
        "id": "e3RCKFseupPY",
        "outputId": "ebc27cb9-b246-4b86-f1ee-29dd3c4fc374"
      },
      "execution_count": 254,
      "outputs": [
        {
          "output_type": "display_data",
          "data": {
            "text/plain": [
              "<Figure size 432x288 with 1 Axes>"
            ],
            "image/png": "[encoded data removed]"
          },
          "metadata": {
            "needs_background": "light"
          }
        }
      ]
    },
    {
      "cell_type": "code",
      "source": [
        "# c) Test de la fonction de densité\n",
        "\n",
        "\n",
        "#Fonction qui injecte n valeur dans la fonction de densité\n",
        "def injectValue(x):\n",
        "    r = []\n",
        "    for i in x:\n",
        "        r.append(dForest(i))\n",
        "    return r\n",
        "\n",
        "#récuparation dans un tableau pour traçer la fonction du bruit.\n",
        "\n",
        "def plotBruit(n):\n",
        "  x = np.random.exponential(size=n)\n",
        "  y = injectValue(x)\n",
        "\n",
        "  fig, ax = plt.subplots()\n",
        "  ax.plot(x, y)\n",
        "  plt.show()\n",
        "\n",
        "plotBruit(100)\n"
      ],
      "metadata": {
        "colab": {
          "base_uri": "https://localhost:8080/",
          "height": 265
        },
        "id": "m_Sok4Usyz1e",
        "outputId": "4e2a6691-7305-4a41-a0ee-5ae586e30a1d"
      },
      "execution_count": 255,
      "outputs": [
        {
          "output_type": "display_data",
          "data": {
            "text/plain": [
              "<Figure size 432x288 with 1 Axes>"
            ],
            "image/png": "[encoded data removed]"
          },
          "metadata": {
            "needs_background": "light"
          }
        }
      ]
    },
    {
      "cell_type": "code",
      "source": [
        "# c) Tracé de la loi exponentielle \n",
        "\n",
        "# Using exponential() method\n",
        "s= np.random.seed(seed)\n",
        "\n",
        "\n",
        "gfg = np.random.exponential(3.45, 10000)\n",
        "\n",
        "sns.histplot(gfg, color='green', stat='density')\n",
        "plt.show()"
      ],
      "metadata": {
        "colab": {
          "base_uri": "https://localhost:8080/",
          "height": 265
        },
        "id": "P517otCn-2la",
        "outputId": "35be9dfd-2cc3-4f50-9e19-73acd57349f2"
      },
      "execution_count": 256,
      "outputs": [
        {
          "output_type": "display_data",
          "data": {
            "text/plain": [
              "<Figure size 432x288 with 1 Axes>"
            ],
            "image/png": "[encoded data removed]"
          },
          "metadata": {
            "needs_background": "light"
          }
        }
      ]
    },
    {
      "cell_type": "markdown",
      "source": [
        "3- \n",
        "\n",
        "a) Ecrivons le code du modèle"
      ],
      "metadata": {
        "id": "1tUF7rtC_u56"
      }
    },
    {
      "cell_type": "code",
      "source": [
        "\n",
        "from scipy.stats import multivariate_normal\n",
        "\n",
        "\n",
        "# Fonction du modèle\n",
        "def model():\n",
        "  D = 150\n",
        "  r = 0.3\n",
        "  s= np.random.seed(seed)\n",
        "\n",
        "  # calcul de X0 et X1\n",
        "  X0 = multivariate_normal.rvs([10., 12.], [[1.1, 0.5], [0.5, 1.1]], size = 1)[0]\n",
        "  X1 = multivariate_normal.rvs([10., 12.], [[1.1, 0.5], [0.5, 1.1]], size = 1)[1]\n",
        "\n",
        "  X = []\n",
        "  X.append(X0)\n",
        "  X.append(X1)\n",
        "\n",
        "  #ep_k = np.random.lognormal(size=50, mean=0, sigma=.002)\n",
        "  ep_k = randomForest(50)\n",
        "  for i in range(2,50):    \n",
        "    m = D**(1-np.exp(-r))*((X[i-1]+X[i-1])/2)**(np.exp(-r)) * ep_k[i-1]\n",
        "    X.append(m)\n",
        "\n",
        "  return X   \n",
        "\n"
      ],
      "metadata": {
        "id": "KvvXd8VCBJU_"
      },
      "execution_count": 244,
      "outputs": []
    },
    {
      "cell_type": "markdown",
      "source": [
        "b)  Affichons les valeurs en cm de la taille de l'arbre"
      ],
      "metadata": {
        "id": "eOZXyKoNN-ui"
      }
    },
    {
      "cell_type": "code",
      "source": [
        "print(model()) "
      ],
      "metadata": {
        "colab": {
          "base_uri": "https://localhost:8080/"
        },
        "id": "pO2SLtfvN8w5",
        "outputId": "13c3cd6b-d876-41ef-a2c4-0a24f811ade6"
      },
      "execution_count": 257,
      "outputs": [
        {
          "output_type": "stream",
          "name": "stdout",
          "text": [
            "[10.224326730071578, 12.287272573038988, 87.77717850127726, 258.7280651699519, 718.9511899983828, 42.705198412597944, 52.40867398506572, 10.374900530611674, 100.83178520278204, 130.36681921346198, 384.95122146227436, 223.19449144954373, 214.975209299761, 4.630079976021642, 12.650276582780739, 178.76863102451844, 104.95738574342882, 110.75038058185314, 748.289676230225, 39.99159621122381, 9.478083648965828, 48.173732883323936, 334.63302732341026, 5.948304200749221, 47.1196667747977, 266.50384532811944, 45.199116842769, 164.75667619121978, 286.1584283399272, 395.5688431115271, 2395.090933545466, 0.03514015011544607, 0.21749477856271493, 3.685470131321253, 9.448580846593496, 15.686079960193796, 83.70458759955956, 610.4380786473296, 297.3634022225937, 381.4261151884267, 218.37664351612278, 236.23959308222754, 487.0515555550702, 1328.0994984869674, 132.69493277528304, 396.76959753038017, 612.5802283563843, 157.90776467804506, 40.50366810952569, 40.06009079324475]\n"
          ]
        }
      ]
    },
    {
      "cell_type": "markdown",
      "source": [
        "4) \n",
        "\n",
        " a) l’abre atteindra la plus grande valeur : oui\n",
        "\n",
        " b) Quelle est cette valeur : 2500m\n",
        "\n",
        " c) Plus grande variation entre deux annéees :\n",
        " \n",
        " d) Année d'observation de ces marges : \n"
      ],
      "metadata": {
        "id": "Od_rezcpOPy_"
      }
    },
    {
      "cell_type": "code",
      "source": [
        "\n",
        "def plotModel():\n",
        "  x = range(50)\n",
        "  y = model()\n",
        "\n",
        "  fig, ax = plt.subplots()\n",
        "  ax.plot(x, y)\n",
        "  plt.show()\n",
        "\n",
        "plotModel()"
      ],
      "metadata": {
        "colab": {
          "base_uri": "https://localhost:8080/",
          "height": 268
        },
        "id": "Th-eI5yoN9VO",
        "outputId": "7593c172-f57a-4dc0-c54a-ea3b7895ee7e"
      },
      "execution_count": 258,
      "outputs": [
        {
          "output_type": "display_data",
          "data": {
            "text/plain": [
              "<Figure size 432x288 with 1 Axes>"
            ],
            "image/png": "[encoded data removed]"
          },
          "metadata": {
            "needs_background": "light"
          }
        }
      ]
    },
    {
      "cell_type": "markdown",
      "source": [
        "5) Similation de 50 réalisations sur 50 années\n",
        "\n"
      ],
      "metadata": {
        "id": "Xy7doxEiQekP"
      }
    }
  ]
}