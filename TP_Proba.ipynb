{
  "nbformat": 4,
  "nbformat_minor": 0,
  "metadata": {
    "colab": {
      "provenance": [],
      "authorship_tag": "ABX9TyMBljugAN2yjAyhfWfp1wDo",
      "include_colab_link": true
    },
    "kernelspec": {
      "name": "python3",
      "display_name": "Python 3"
    },
    "language_info": {
      "name": "python"
    }
  },
  "cells": [
    {
      "cell_type": "markdown",
      "metadata": {
        "id": "view-in-github",
        "colab_type": "text"
      },
      "source": [
        "<a href=\"https://colab.research.google.com/github/jwphantom/tree-growth-simulator/blob/main/TP_Proba.ipynb\" target=\"_parent\"><img src=\"https://colab.research.google.com/assets/colab-badge.svg\" alt=\"Open In Colab\"/></a>"
      ]
    },
    {
      "cell_type": "code",
      "source": [
        "import numpy as np\n",
        "import matplotlib.pyplot as plt\n",
        "from scipy.stats import multivariate_normal\n",
        "import seaborn as sns\n",
        "import math"
      ],
      "metadata": {
        "id": "UUHszih3btfD"
      },
      "execution_count": 53,
      "outputs": []
    },
    {
      "cell_type": "markdown",
      "source": [
        "1 - \n",
        "\n",
        "a) Ecriture du simulateur d'un similuteur de la loi bruit\n",
        "\n",
        "b) Code du calcul de la densité\n",
        "\n",
        "c) Code du des probabilités\n",
        "\n",
        "d) Code du calcul des quantiles"
      ],
      "metadata": {
        "id": "TpZw3zqZuyJb"
      }
    },
    {
      "cell_type": "code",
      "source": [
        "#supposons le paramètre thêta = 1 \n",
        "t = 0.05"
      ],
      "metadata": {
        "id": "rPXXCcqBtRQL"
      },
      "execution_count": 54,
      "outputs": []
    },
    {
      "cell_type": "code",
      "source": [
        "#initialisation du seed à 13\n",
        "seed = 13"
      ],
      "metadata": {
        "id": "YmEYu8tU45mj"
      },
      "execution_count": 55,
      "outputs": []
    },
    {
      "cell_type": "code",
      "source": [
        "# a) Simulateur de la loi du bruit\n",
        "def invForest(x):\n",
        "    r = []\n",
        "    for i in x:\n",
        "        if(i<0):\n",
        "            return r.append(0)\n",
        "        elif(i>0 and i<1):\n",
        "            Result=(-1/t)*math.log(1-i)\n",
        "            r.append(Result)\n",
        "    return r"
      ],
      "metadata": {
        "id": "K0zzIvEzt4Nu"
      },
      "execution_count": 56,
      "outputs": []
    },
    {
      "cell_type": "code",
      "source": [
        "# b) fonction de densité\n",
        "def dForest(x):\n",
        "    p=t*x\n",
        "    if(x<0):\n",
        "        return 0\n",
        "    return t*math.exp(-p)"
      ],
      "metadata": {
        "id": "I0HFOGQvtasp"
      },
      "execution_count": 57,
      "outputs": []
    },
    {
      "cell_type": "code",
      "source": [
        "# c) fonction de probabilité\n",
        "def pForest(q):\n",
        "    return frForest(q)"
      ],
      "metadata": {
        "id": "oZ1Rx3CEtrcj"
      },
      "execution_count": 58,
      "outputs": []
    },
    {
      "cell_type": "code",
      "source": [
        "# d) fonction des quantiles\n",
        "def qForest(p):\n",
        "    return(invForest(p))"
      ],
      "metadata": {
        "id": "6bYQ7i3ct1H2"
      },
      "execution_count": 59,
      "outputs": []
    },
    {
      "cell_type": "code",
      "source": [
        "# Fonction de répartition.\n",
        "def frForest(x):\n",
        "    print(x)\n",
        "    p=x*t\n",
        "    if(x<0):\n",
        "        return 0\n",
        "    result= 1-math.exp(-p)\n",
        "    return result"
      ],
      "metadata": {
        "id": "66y0qrCZtoC3"
      },
      "execution_count": 60,
      "outputs": []
    },
    {
      "cell_type": "markdown",
      "source": [
        "2- Test des fonctions , répresenation des histogrammes d'un jeu tiré de vos simulations\n"
      ],
      "metadata": {
        "id": "OGSiHee9v4zX"
      }
    },
    {
      "cell_type": "code",
      "source": [
        "# a) Generateur des variables alatoire\n",
        "def randomForest(n):\n",
        "    \n",
        "    u= np.random.uniform(size=n)\n",
        "    return (invForest(u))"
      ],
      "metadata": {
        "id": "g1q0Uiewt_li"
      },
      "execution_count": 61,
      "outputs": []
    },
    {
      "cell_type": "code",
      "source": [
        "# b) Tracer de l'histogramme \n",
        "\n",
        "g = randomForest(10000)\n",
        "\n",
        "sns.histplot(g, color='deepskyblue', stat='density')\n",
        "sns.kdeplot(g, color='red')\n",
        "plt.show()"
      ],
      "metadata": {
        "colab": {
          "base_uri": "https://localhost:8080/",
          "height": 265
        },
        "id": "e3RCKFseupPY",
        "outputId": "3ab82d86-4b97-44e9-bf7a-55c666db6358"
      },
      "execution_count": 62,
      "outputs": [
        {
          "output_type": "display_data",
          "data": {
            "text/plain": [
              "<Figure size 432x288 with 1 Axes>"
            ],
            "image/png": "[encoded data removed]"
          },
          "metadata": {
            "needs_background": "light"
          }
        }
      ]
    },
    {
      "cell_type": "code",
      "source": [
        "# c) Test de la fonction de densité\n",
        "\n",
        "\n",
        "#Fonction qui injecte n valeur dans la fonction de densité\n",
        "def injectValue(x):\n",
        "    r = []\n",
        "    for i in x:\n",
        "        r.append(dForest(i))\n",
        "    return r\n",
        "\n",
        "#récuparation dans un tableau pour traçer la fonction du bruit.\n",
        "\n",
        "def plotBruit(n):\n",
        "  x = np.random.exponential(size=n)\n",
        "  y = injectValue(x)\n",
        "\n",
        "  fig, ax = plt.subplots()\n",
        "  ax.plot(x, y)\n",
        "  plt.show()\n",
        "\n",
        "plotBruit(100)\n"
      ],
      "metadata": {
        "colab": {
          "base_uri": "https://localhost:8080/",
          "height": 265
        },
        "id": "m_Sok4Usyz1e",
        "outputId": "a1bfe385-1718-4b21-98e4-19252463ed81"
      },
      "execution_count": 63,
      "outputs": [
        {
          "output_type": "display_data",
          "data": {
            "text/plain": [
              "<Figure size 432x288 with 1 Axes>"
            ],
            "image/png": "[encoded data removed]"
          },
          "metadata": {
            "needs_background": "light"
          }
        }
      ]
    },
    {
      "cell_type": "code",
      "source": [
        "# c) Tracé de la loi exponentielle \n",
        "\n",
        "# Using exponential() method\n",
        "s= np.random.seed(seed)\n",
        "\n",
        "\n",
        "gfg = np.random.exponential(3.45, 10000)\n",
        "\n",
        "sns.histplot(gfg, color='green', stat='density')\n",
        "plt.show()"
      ],
      "metadata": {
        "colab": {
          "base_uri": "https://localhost:8080/",
          "height": 265
        },
        "id": "P517otCn-2la",
        "outputId": "32dba552-fcb1-4e7d-fb7e-9f8c25cd03ec"
      },
      "execution_count": 64,
      "outputs": [
        {
          "output_type": "display_data",
          "data": {
            "text/plain": [
              "<Figure size 432x288 with 1 Axes>"
            ],
            "image/png": "[encoded data removed]"
          },
          "metadata": {
            "needs_background": "light"
          }
        }
      ]
    },
    {
      "cell_type": "markdown",
      "source": [
        "3- \n",
        "\n",
        "a) Ecrivons le code du modèle"
      ],
      "metadata": {
        "id": "1tUF7rtC_u56"
      }
    },
    {
      "cell_type": "code",
      "source": [
        "t = 0.001\n",
        "from scipy.stats import multivariate_normal\n",
        "\n",
        "\n",
        "# Fonction du modèle\n",
        "def model():\n",
        "  D = 150\n",
        "  r = 0.3\n",
        "  s= np.random.seed(seed)\n",
        "\n",
        "  # calcul de X0 et X1\n",
        "  X0 = multivariate_normal.rvs([10., 12.], [[1.1, 0.5], [0.5, 1.1]], size = 1)[0]\n",
        "  X1 = multivariate_normal.rvs([10., 12.], [[1.1, 0.5], [0.5, 1.1]], size = 1)[1]\n",
        "\n",
        "  X = []\n",
        "  X.append(X0)\n",
        "  X.append(X1)\n",
        "\n",
        "  #ep_k = np.random.lognormal(size=50, mean=0, sigma=.002)\n",
        "  ep_k = randomForest(50)\n",
        "  for i in range(2,50):    \n",
        "    m = D**(1-np.exp(-r))*((X[i-1]+X[i-1])/2)**(np.exp(-r)) * ep_k[i-1]\n",
        "    X.append(m)\n",
        "\n",
        "  return X   \n",
        "\n"
      ],
      "metadata": {
        "id": "KvvXd8VCBJU_"
      },
      "execution_count": 65,
      "outputs": []
    },
    {
      "cell_type": "markdown",
      "source": [
        "b)  Affichons les valeurs en cm de la taille de l'arbre"
      ],
      "metadata": {
        "id": "eOZXyKoNN-ui"
      }
    },
    {
      "cell_type": "code",
      "source": [
        "print(model()) "
      ],
      "metadata": {
        "colab": {
          "base_uri": "https://localhost:8080/"
        },
        "id": "pO2SLtfvN8w5",
        "outputId": "06902b0e-a83e-47d7-9436-031e110547a8"
      },
      "execution_count": 66,
      "outputs": [
        {
          "output_type": "stream",
          "name": "stdout",
          "text": [
            "[10.224326730071578, 12.287272573038988, 35110.8714005109, 8761066.664645605, 652309422.9115466, 442744968.62576556, 3302185534.2007775, 2488744442.230461, 65119557619.37589, 175355756505.16727, 891686551495.7113, 773326267937.8691, 1003729317957.0835, 26964286700.106472, 86775760674.9257, 1384396175277.325, 889204131131.7026, 1002859215297.1178, 7118341042031.531, 394586185880.82135, 96082897208.15602, 498244204512.87335, 3512777317436.271, 63132525552.93575, 504198979552.04987, 2868966979631.5225, 488758901647.1051, 1787503544623.7585, 3112265128307.1665, 4310046433671.7397, 26131659875251.46, 383779761.65213263, 2377105250.5448904, 40302349349.16684, 103366612778.59538, 171655879645.02032, 916199899118.0564, 6682735108492.821, 3255766332130.9546, 4176528589805.8276, 2391334622989.8594, 2587071503286.5615, 5333922099836.029, 14545015572080.297, 1453271279403.8176, 4345474833170.1445, 6709136732185.282, 1729460791361.3633, 443612968022.8492, 438756703221.75684]\n"
          ]
        }
      ]
    },
    {
      "cell_type": "markdown",
      "source": [
        "4) \n",
        "\n"
      ],
      "metadata": {
        "id": "Od_rezcpOPy_"
      }
    },
    {
      "cell_type": "code",
      "source": [
        "def nbannée(init) :\n",
        "  x = []\n",
        "  for i in range(50):\n",
        "    x.append(init + i)\n",
        "\n",
        "  return x"
      ],
      "metadata": {
        "id": "050337tLid-U"
      },
      "execution_count": 67,
      "outputs": []
    },
    {
      "cell_type": "code",
      "source": [
        "annee = 2023\n",
        "\n",
        "def plotModel():\n",
        "  x = nbannée(annee)\n",
        "  y = model()\n",
        "\n",
        "  fig, ax = plt.subplots()\n",
        "  ax.plot(x, y)\n",
        "  plt.show()\n",
        "\n",
        "plotModel()"
      ],
      "metadata": {
        "colab": {
          "base_uri": "https://localhost:8080/",
          "height": 276
        },
        "id": "Th-eI5yoN9VO",
        "outputId": "d92f95bb-43d2-4b5e-f8e0-85fe6408657c"
      },
      "execution_count": 72,
      "outputs": [
        {
          "output_type": "display_data",
          "data": {
            "text/plain": [
              "<Figure size 432x288 with 1 Axes>"
            ],
            "image/png": "[encoded data removed]"
          },
          "metadata": {
            "needs_background": "light"
          }
        }
      ]
    },
    {
      "cell_type": "markdown",
      "source": [
        "\n",
        " **a) Année à laquelle l'arbre atteindra sa plus grande taille  : [texte du lien](https://)**"
      ],
      "metadata": {
        "id": "D1sAuNpRfkt7"
      }
    },
    {
      "cell_type": "code",
      "source": [
        "from operator import indexOf\n",
        "\n",
        "y = model().index(max(model())) \n",
        "print (str(nbannée(annee)[y]))"
      ],
      "metadata": {
        "colab": {
          "base_uri": "https://localhost:8080/"
        },
        "id": "ikvSRilOf1QG",
        "outputId": "a5270134-da87-4a48-ed4c-5ac5ac9b9abc"
      },
      "execution_count": 74,
      "outputs": [
        {
          "output_type": "stream",
          "name": "stdout",
          "text": [
            "2053\n"
          ]
        }
      ]
    },
    {
      "cell_type": "markdown",
      "source": [
        "\n",
        "**b) Valeurs de cette arbre en cm**"
      ],
      "metadata": {
        "id": "lIeuEDaRhR0c"
      }
    },
    {
      "cell_type": "code",
      "source": [
        "print (str(max(model())) + ' cm')"
      ],
      "metadata": {
        "colab": {
          "base_uri": "https://localhost:8080/"
        },
        "id": "YdWoWN0EhfXr",
        "outputId": "5a2db396-936e-4423-e9bb-478b402b3104"
      },
      "execution_count": 75,
      "outputs": [
        {
          "output_type": "stream",
          "name": "stdout",
          "text": [
            "26131659875251.46 cm\n"
          ]
        }
      ]
    },
    {
      "cell_type": "markdown",
      "source": [
        "**c) Plus grande variation entre deux annéees :**"
      ],
      "metadata": {
        "id": "13tHB-tvm0Au"
      }
    },
    {
      "cell_type": "code",
      "source": [
        "def diffrence():\n",
        "  x1 = max(model())\n",
        "  x2 = model()[model().index(max(model())) -1 ]\n",
        "\n",
        "  return x1-x2\n",
        "\n",
        "print (str(diffrence()) + ' cm')"
      ],
      "metadata": {
        "colab": {
          "base_uri": "https://localhost:8080/"
        },
        "id": "WwX0GA10m2zo",
        "outputId": "b8d34eeb-8ee9-4daa-bac4-578373da0311"
      },
      "execution_count": 77,
      "outputs": [
        {
          "output_type": "stream",
          "name": "stdout",
          "text": [
            "21821613441579.723cm\n"
          ]
        }
      ]
    },
    {
      "cell_type": "markdown",
      "source": [
        "**d) Année d'observation de ces marges :**  2050 à 2053"
      ],
      "metadata": {
        "id": "BbN9f5dxpLWn"
      }
    },
    {
      "cell_type": "markdown",
      "source": [
        "5) Similation de 50 réalisations sur 50 années\n",
        "\n"
      ],
      "metadata": {
        "id": "Xy7doxEiQekP"
      }
    }
  ]
}