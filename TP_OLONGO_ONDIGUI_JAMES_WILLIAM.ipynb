{
  "nbformat": 4,
  "nbformat_minor": 0,
  "metadata": {
    "colab": {
      "provenance": [],
      "authorship_tag": "ABX9TyMyUS/N5PbQGUiaMcC0RSLB",
      "include_colab_link": true
    },
    "kernelspec": {
      "name": "python3",
      "display_name": "Python 3"
    },
    "language_info": {
      "name": "python"
    }
  },
  "cells": [
    {
      "cell_type": "markdown",
      "metadata": {
        "id": "view-in-github",
        "colab_type": "text"
      },
      "source": [
        "<a href=\"https://colab.research.google.com/github/jwphantom/tree-growth-simulator/blob/main/TP_OLONGO_ONDIGUI_JAMES_WILLIAM.ipynb\" target=\"_parent\"><img src=\"https://colab.research.google.com/assets/colab-badge.svg\" alt=\"Open In Colab\"/></a>"
      ]
    },
    {
      "cell_type": "markdown",
      "source": [
        "### **CONSIGNE** : \n",
        "Production des réalisations d'un modèle de croissance des arbres sur 50ans "
      ],
      "metadata": {
        "id": "dqcGtRckG1tG"
      }
    },
    {
      "cell_type": "markdown",
      "source": [
        "**1 a) Résolution par la méthode l'inverse la fonction de repartition **"
      ],
      "metadata": {
        "id": "e-OkvFXRHXxq"
      }
    },
    {
      "cell_type": "markdown",
      "source": [
        "soit \n",
        "\n",
        "$\n",
        "f(x) = \\left\\{\n",
        "    \\begin{array}\\\\\n",
        "         \\theta\\exp(-\\theta x) & \\mbox{if } \\ x \\geq 0 \\\\\n",
        "        0 & \\mbox{if } \\ x < 0 \\\\   \n",
        "    \\end{array}\n",
        "\\right.\n",
        "$\n",
        "\n",
        "\n",
        "notre fonction de densité, la fonction de repartition associée est telle que \n",
        "\n",
        "$\n",
        " F(x) = \\int_\\infty^ \\infty \\theta\\exp(-\\theta x)\\,dx\n",
        "$\n",
        "\n",
        "Ainsi on aura \n",
        "\n",
        "\n",
        "$\n",
        "F(x) = \\left\\{\n",
        "    \\begin{array}\\\\\n",
        "        1-\\exp(-\\theta x) & \\mbox{if } \\ x \\geq 0 \\\\  \n",
        "        0 & \\mbox{if } \\ x < 0 \\\\   \n",
        "    \\end{array}\n",
        "\\right.\n",
        "$\n",
        "\n",
        "Afin de trouver l'inverse de la fonction de repartition resolvons F(x) = Y\n",
        "\n",
        "\n",
        "$F(x)^-1 $ est telle que :\n",
        "\n",
        "\n",
        "$\n",
        " 1-\\exp(-\\theta x) = Y\n",
        "$\n",
        "\n",
        "\n",
        "La resolution de cette équation nous amène à:\n",
        "\n",
        "$ F(x)^-1 = \\left\\{\n",
        "    \\begin{array}\\\\\n",
        "        \\frac{-1}{\\theta}\\log(1-x) & \\mbox{if } \\ x \\in [0,1] \\\\  \n",
        "        0 & \\mbox{if } \\ x \\in \\mathbf{R}^*- \\\\   \n",
        "    \\end{array}\n",
        "\\right.\n",
        "$ "
      ],
      "metadata": {
        "id": "3i4UwG9JHi83"
      }
    },
    {
      "cell_type": "markdown",
      "source": [
        "**b) Ecriture du code de cette fonction de repartition**"
      ],
      "metadata": {
        "id": "p9DRkPLgHqp2"
      }
    },
    {
      "cell_type": "code",
      "source": [
        "import numpy as np\n",
        "import matplotlib.pyplot as plt\n",
        "from scipy.stats import multivariate_normal\n",
        "import seaborn as sns\n",
        "import math\n",
        "\n",
        "t = 1"
      ],
      "metadata": {
        "id": "UUHszih3btfD"
      },
      "execution_count": null,
      "outputs": []
    },
    {
      "cell_type": "code",
      "source": [
        "# Inverse Simulateur de la loi du bruit\n",
        "def inverseForest(x):\n",
        "  if(x<0):\n",
        "    return 0\n",
        "  elif(x>0 and x<1):\n",
        "    Result=(-1/t)*math.log(1-x)\n",
        "    return 0 "
      ],
      "metadata": {
        "id": "Awyf6au_H6mZ"
      },
      "execution_count": null,
      "outputs": []
    },
    {
      "cell_type": "markdown",
      "source": [
        "**c) Ecriture du code de la fonction de densité**"
      ],
      "metadata": {
        "id": "Sbb938lnIBfi"
      }
    },
    {
      "cell_type": "code",
      "source": [
        "# Fonction de densité\n",
        "def densiteForest(x):\n",
        "    p=t*x\n",
        "    if(x<0):\n",
        "        return 0\n",
        "    return t*math.exp(-p)"
      ],
      "metadata": {
        "id": "xAWJCHDRIIN6"
      },
      "execution_count": null,
      "outputs": []
    },
    {
      "cell_type": "markdown",
      "source": [
        "**d) Ecriture du code la fonction du calcul des probalités**"
      ],
      "metadata": {
        "id": "_0t2QV5HIVnh"
      }
    },
    {
      "cell_type": "code",
      "source": [
        "# Fonction de probabilité\n",
        "def probForest(q):\n",
        "    return frForest(q)"
      ],
      "metadata": {
        "id": "LWSyMPWvIpWN"
      },
      "execution_count": null,
      "outputs": []
    },
    {
      "cell_type": "markdown",
      "source": [
        "**e) Ecriture de la fonction du calcul des quantilles**"
      ],
      "metadata": {
        "id": "sUzJjQTWIutP"
      }
    },
    {
      "cell_type": "code",
      "source": [
        "# Fonction des quantiles\n",
        "def quanForest(p):\n",
        "    return(inverseForest(p))"
      ],
      "metadata": {
        "id": "70VDMxrFI0d3"
      },
      "execution_count": null,
      "outputs": []
    },
    {
      "cell_type": "markdown",
      "source": [
        "**f) Ecriture de la fonction du calcul de la fonction de repartition**"
      ],
      "metadata": {
        "id": "SftuT87CI9wB"
      }
    },
    {
      "cell_type": "code",
      "source": [
        "# Fonction de répartition.\n",
        "def frForest(x):\n",
        "    p=x*t\n",
        "    if(x<0):\n",
        "        return 0\n",
        "    result= 1-math.exp(-p)\n",
        "    return result"
      ],
      "metadata": {
        "id": "JH84Ai64JH8U"
      },
      "execution_count": null,
      "outputs": []
    },
    {
      "cell_type": "code",
      "source": [
        "#initialisation du seed à 13\n",
        "seed = 13"
      ],
      "metadata": {
        "id": "YmEYu8tU45mj"
      },
      "execution_count": null,
      "outputs": []
    },
    {
      "cell_type": "markdown",
      "source": [
        "# **2- Test des fonctions , répresenation des histogrammes d'un jeu tiré de vos simulations**\n",
        "\n",
        "\n",
        "**a) Test des fonctions**"
      ],
      "metadata": {
        "id": "OGSiHee9v4zX"
      }
    },
    {
      "cell_type": "markdown",
      "source": [
        "\n",
        "\n",
        "> Fonction Probabilité\n",
        "\n"
      ],
      "metadata": {
        "id": "5rrdKT2LKm1A"
      }
    },
    {
      "cell_type": "code",
      "source": [
        "print(\"P(-1)= \" + str(probForest(-1)))\n",
        "print(\"P(0.2)= \" + str(probForest(0.2)))\n",
        "print(\"P(2)= \" + str(probForest(2)))"
      ],
      "metadata": {
        "colab": {
          "base_uri": "https://localhost:8080/"
        },
        "id": "L2z1iG-hJjmK",
        "outputId": "778ccae2-2303-416d-9254-306a023f524f"
      },
      "execution_count": null,
      "outputs": [
        {
          "output_type": "stream",
          "name": "stdout",
          "text": [
            "P(-1)= 0\n",
            "P(0.2)= 0.06735935176178842\n",
            "P(2)= 0.502098541621229\n"
          ]
        }
      ]
    },
    {
      "cell_type": "markdown",
      "source": [
        "> Fonction Quantille"
      ],
      "metadata": {
        "id": "Cc4ZWSWFKtPR"
      }
    },
    {
      "cell_type": "code",
      "source": [
        "print(\"Q(-2)= \" + str(quanForest(-2)))\n",
        "print(\"Q(0.04)= \" + str(quanForest(0.04)))\n",
        "print(\"Q(24)= \" + str(quanForest(24)))"
      ],
      "metadata": {
        "colab": {
          "base_uri": "https://localhost:8080/"
        },
        "id": "_KB_0C2WK3Cx",
        "outputId": "b9c771fa-3bff-447f-a840-f357415cbbe7"
      },
      "execution_count": null,
      "outputs": [
        {
          "output_type": "stream",
          "name": "stdout",
          "text": [
            "Q(-2)= 0\n",
            "Q(0.04)= 0\n",
            "Q(24)= None\n"
          ]
        }
      ]
    },
    {
      "cell_type": "markdown",
      "source": [
        "**b) Tracons l'histogramme d'un jeu tiré de nos simulations**"
      ],
      "metadata": {
        "id": "hRdPyez6MGh1"
      }
    },
    {
      "cell_type": "code",
      "source": [
        "#déclatation d'une fonction inverdse Forest Push pour pouvoir stocker les variables de chaque année sur 50 années dans un tableau\n",
        "def inverseForestPush(x):\n",
        "    r = []\n",
        "    for i in x:\n",
        "        if(i<0):\n",
        "            return r.append(0)\n",
        "        elif(i>0 and i<1):\n",
        "            Result=(-1/t)*math.log(1-i)\n",
        "            r.append(Result)\n",
        "    return r"
      ],
      "metadata": {
        "id": "PX80K0DeMQ0U"
      },
      "execution_count": null,
      "outputs": []
    },
    {
      "cell_type": "code",
      "source": [
        "# Generateur des variables alatoire\n",
        "def randomForest(n):\n",
        "    u= np.random.uniform(size=n)\n",
        "    return (inverseForestPush(u))"
      ],
      "metadata": {
        "id": "g1q0Uiewt_li"
      },
      "execution_count": null,
      "outputs": []
    },
    {
      "cell_type": "code",
      "source": [
        "# Tracé de l'histogramme \n",
        "\n",
        "g = randomForest(100000)\n",
        "\n",
        "sns.histplot(g, color='deepskyblue', stat='density')\n",
        "sns.kdeplot(g, color='black')\n",
        "plt.show()"
      ],
      "metadata": {
        "id": "e3RCKFseupPY"
      },
      "execution_count": null,
      "outputs": []
    },
    {
      "cell_type": "markdown",
      "source": [
        "** Tracons une fonction de la loi"
      ],
      "metadata": {
        "id": "UGuJZrWBNZt3"
      }
    },
    {
      "cell_type": "code",
      "source": [
        "# c) Tracé de la loi exponentielle \n",
        "\n",
        "# Using exponential() method\n",
        "s= np.random.seed(seed)\n",
        "\n",
        "\n",
        "gfg = np.random.exponential(3.45, 100000)\n",
        "\n",
        "sns.histplot(gfg, color='purple', stat='density')\n",
        "plt.show()"
      ],
      "metadata": {
        "id": "P517otCn-2la"
      },
      "execution_count": null,
      "outputs": []
    },
    {
      "cell_type": "code",
      "source": [],
      "metadata": {
        "id": "Mz833u6aQBt7"
      },
      "execution_count": null,
      "outputs": []
    },
    {
      "cell_type": "markdown",
      "source": [
        "** Comparaisons des deux graphes ::**\n",
        "\n",
        "Nous constatons que plus les valeurs injectées sont grandes, plus ces deux graphes finissent par être similaire. "
      ],
      "metadata": {
        "id": "jbSh3f84QCm-"
      }
    },
    {
      "cell_type": "markdown",
      "source": [
        "# **3)Simulons des valeurs du modèle en utilisant le bruit**\n",
        "\n",
        "\n",
        "**a)Ecrivons le code du modèle**"
      ],
      "metadata": {
        "id": "1tUF7rtC_u56"
      }
    },
    {
      "cell_type": "code",
      "source": [
        "from scipy.stats import multivariate_normal\n",
        "\n",
        "\n",
        "# Fonction du modèle\n",
        "def model():\n",
        "  D = 150\n",
        "  r = 0.3\n",
        "  s= np.random.seed(seed)\n",
        "\n",
        "  # calcul de X0 et X1\n",
        "  X0 = multivariate_normal.rvs([10., 12.], [[1.1, 0.5], [0.5, 1.1]], size = 1)[0]\n",
        "  X1 = multivariate_normal.rvs([10., 12.], [[1.1, 0.5], [0.5, 1.1]], size = 1)[1]\n",
        "\n",
        "  X = []\n",
        "  X.append(X0)\n",
        "  X.append(X1)\n",
        "\n",
        "  #ep_k = np.random.lognormal(size=50, mean=0, sigma=.002)\n",
        "  ep_k = randomForest(50)\n",
        "  for i in range(2,50):    \n",
        "    m = D**(1-np.exp(-r))*((X[i-1]+X[i-2])/2)**(np.exp(-r)) * ep_k[i-1]\n",
        "    X.append(m)\n",
        "\n",
        "  return X   \n",
        "\n"
      ],
      "metadata": {
        "id": "KvvXd8VCBJU_"
      },
      "execution_count": null,
      "outputs": []
    },
    {
      "cell_type": "markdown",
      "source": [
        "**b)  Affichons les valeurs en cm de la taille de l'arbre**"
      ],
      "metadata": {
        "id": "eOZXyKoNN-ui"
      }
    },
    {
      "cell_type": "code",
      "source": [
        "print(model()) "
      ],
      "metadata": {
        "id": "pO2SLtfvN8w5"
      },
      "execution_count": null,
      "outputs": []
    },
    {
      "cell_type": "markdown",
      "source": [
        "# **4) Question 4**"
      ],
      "metadata": {
        "id": "RdhI5HppfcbT"
      }
    },
    {
      "cell_type": "code",
      "source": [
        "def nbannée(init) :\n",
        "  x = []\n",
        "  for i in range(50):\n",
        "    x.append(init + i)\n",
        "\n",
        "  return x"
      ],
      "metadata": {
        "id": "050337tLid-U"
      },
      "execution_count": null,
      "outputs": []
    },
    {
      "cell_type": "code",
      "source": [
        "annee = 2023\n",
        "\n",
        "def plotModel():\n",
        "  x = nbannée(annee)\n",
        "  y = model()\n",
        "\n",
        "  fig, ax = plt.subplots()\n",
        "  ax.plot(x, y)\n",
        "  plt.show()\n",
        "\n",
        "plotModel()"
      ],
      "metadata": {
        "id": "Th-eI5yoN9VO"
      },
      "execution_count": null,
      "outputs": []
    },
    {
      "cell_type": "markdown",
      "source": [
        "\n",
        " **a) Année à laquelle l'arbre atteindra sa plus grande taille  : [texte du lien](https://)**"
      ],
      "metadata": {
        "id": "D1sAuNpRfkt7"
      }
    },
    {
      "cell_type": "code",
      "source": [
        "from operator import indexOf\n",
        "\n",
        "y = model().index(max(model())) \n",
        "print (str(nbannée(annee)[y]))"
      ],
      "metadata": {
        "id": "ikvSRilOf1QG"
      },
      "execution_count": null,
      "outputs": []
    },
    {
      "cell_type": "markdown",
      "source": [
        "\n",
        "**b) Valeurs de cette arbre en cm**"
      ],
      "metadata": {
        "id": "lIeuEDaRhR0c"
      }
    },
    {
      "cell_type": "code",
      "source": [
        "print (str(max(model())) + ' cm')"
      ],
      "metadata": {
        "id": "YdWoWN0EhfXr"
      },
      "execution_count": null,
      "outputs": []
    },
    {
      "cell_type": "markdown",
      "source": [
        "**c) Plus grande variation entre deux annéees :**"
      ],
      "metadata": {
        "id": "13tHB-tvm0Au"
      }
    },
    {
      "cell_type": "code",
      "source": [
        "def diffrence():\n",
        "  x1 = max(model())\n",
        "  x2 = model()[model().index(max(model())) -1 ]\n",
        "\n",
        "  return x1-x2\n",
        "\n",
        "print (str(diffrence()) + ' cm')"
      ],
      "metadata": {
        "id": "WwX0GA10m2zo"
      },
      "execution_count": null,
      "outputs": []
    },
    {
      "cell_type": "markdown",
      "source": [
        "**d) Année d'observation de ces marges :**  2050 à 2053"
      ],
      "metadata": {
        "id": "BbN9f5dxpLWn"
      }
    },
    {
      "cell_type": "markdown",
      "source": [
        "# **5) Similation de 50 réalisations sur 50 années**\n",
        "\n",
        "\n",
        "pour faire 50 réalisations sur 50 années nous devons rétirer notre seed afin de pouvoir obtenir des valeurs différentes"
      ],
      "metadata": {
        "id": "Xy7doxEiQekP"
      }
    },
    {
      "cell_type": "code",
      "source": [
        "# Fonction du modèle\n",
        "def nModel():\n",
        "  D = 150\n",
        "  r = 0.3\n",
        "  # calcul de X0 et X1\n",
        "  X0 = multivariate_normal.rvs([10., 12.], [[1.1, 0.5], [0.5, 1.1]], size = 1)[0]\n",
        "  X1 = multivariate_normal.rvs([10., 12.], [[1.1, 0.5], [0.5, 1.1]], size = 1)[1]\n",
        "\n",
        "  X = []\n",
        "  X.append(X0)\n",
        "  X.append(X1)\n",
        "\n",
        "  #ep_k = np.random.lognormal(size=50, mean=0, sigma=.002)\n",
        "  ep_k = randomForest(50)\n",
        "  for i in range(2,50):    \n",
        "    m = D**(1-np.exp(-r))*((X[i-1]+X[i-2])/2)**(np.exp(-r)) * ep_k[i-1]\n",
        "    X.append(m)\n",
        "\n",
        "  return X   "
      ],
      "metadata": {
        "id": "4R0Vxt98zb9B"
      },
      "execution_count": null,
      "outputs": []
    },
    {
      "cell_type": "code",
      "source": [
        "def realisation(n):\n",
        "\n",
        "  matrice = np.zeros(shape=(n, n), dtype=float)\n",
        "\n",
        "  for i in range(n):\n",
        "                                     \n",
        "      matrice[i,] = nModel()\n",
        "\n",
        "  return matrice"
      ],
      "metadata": {
        "id": "TMo_qKr-0lBl"
      },
      "execution_count": null,
      "outputs": []
    },
    {
      "cell_type": "code",
      "source": [
        "annee = 2023\n",
        "\n",
        "def plotModel():\n",
        "  y = realisation(50)\n",
        "  \n",
        "  x = nbannée(2023)\n",
        "  \n",
        "  for a in range(50):\n",
        "      plt.plot(x, y[a,])\n",
        "\n",
        "  plt.show()\n",
        "\n",
        "plotModel()"
      ],
      "metadata": {
        "id": "HLl_nFPR1F0d"
      },
      "execution_count": null,
      "outputs": []
    },
    {
      "cell_type": "markdown",
      "source": [
        "> Ce modèle ne reflète pas la réalité."
      ],
      "metadata": {
        "id": "VcF7E0_JgFR9"
      }
    }
  ]
}